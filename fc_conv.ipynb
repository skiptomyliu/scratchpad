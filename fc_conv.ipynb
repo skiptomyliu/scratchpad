{
 "cells": [
  {
   "cell_type": "code",
   "execution_count": 1,
   "metadata": {
    "collapsed": false
   },
   "outputs": [],
   "source": [
    "import tensorflow as tf"
   ]
  },
  {
   "cell_type": "code",
   "execution_count": 2,
   "metadata": {
    "collapsed": false
   },
   "outputs": [
    {
     "name": "stdout",
     "output_type": "stream",
     "text": [
      "X_val:  (1000, 3, 32, 32)\n",
      "X_train:  (49000, 3, 32, 32)\n",
      "X_test:  (1000, 3, 32, 32)\n",
      "y_val:  (1000,)\n",
      "y_train:  (49000,)\n",
      "y_test:  (1000,)\n"
     ]
    }
   ],
   "source": [
    "import matplotlib.pyplot as plt\n",
    "from scipy.misc import imread, imresize\n",
    "from data_utils import get_CIFAR10_data\n",
    "import resource\n",
    "import numpy as np\n",
    "from numpy import float32\n",
    "\n",
    "# reload(data_utils)\n",
    "%matplotlib inline\n",
    "# plt.rcParams['figure.figsize'] = (10.0, 8.0) # set default size of plots\n",
    "# plt.rcParams['image.interpolation'] = 'nearest'\n",
    "# plt.rcParams['image.cmap'] = 'gray'\n",
    "\n",
    "data = get_CIFAR10_data()\n",
    "for k, v in data.iteritems():\n",
    "  print '%s: ' % k, v.shape"
   ]
  },
  {
   "cell_type": "code",
   "execution_count": null,
   "metadata": {
    "collapsed": false
   },
   "outputs": [],
   "source": []
  },
  {
   "cell_type": "code",
   "execution_count": 26,
   "metadata": {
    "collapsed": false
   },
   "outputs": [],
   "source": [
    "def conv2d(x, W):\n",
    "    return tf.nn.conv2d(x, W, strides=[1, 1, 1, 1], padding='SAME')\n",
    "\n",
    "def conv2d_relu(x, W, b):\n",
    "    return tf.nn.relu(conv2d(x,W) + b)\n",
    "\n",
    "def conv2d_batch_relu(x, W, b, n_out, phase_train):\n",
    "    conv = conv2d(x,W) + b\n",
    "    conv_bn = batch_norm(conv, n_out, phase_train)\n",
    "    return tf.nn.relu(conv_bn)\n",
    "\n",
    "\n",
    "def max_pool_2x2(x):\n",
    "    return tf.nn.max_pool(x, ksize=[1,2,2,1], strides=[1,2,2,1], padding='SAME')\n",
    "\n",
    "def weight_variable(shape, name):    \n",
    "    initial = 1e-2*tf.truncated_normal(shape, stddev=0.1, name=name)\n",
    "    return tf.Variable(initial)\n",
    "\n",
    "def bias_variable(shape, name):\n",
    "    initial = tf.constant(0.0, shape=shape)\n",
    "    return tf.Variable(initial, name=name)\n"
   ]
  },
  {
   "cell_type": "code",
   "execution_count": 25,
   "metadata": {
    "collapsed": true
   },
   "outputs": [],
   "source": [
    "def batch_norm(x, n_out, phase_train, scope='bn'):\n",
    "    \"\"\"\n",
    "    Batch normalization on convolutional maps.\n",
    "    Args:\n",
    "        x:           Tensor, 4D BHWD input maps\n",
    "        n_out:       integer, depth of input maps\n",
    "        phase_train: boolean tf.Varialbe, true indicates training phase\n",
    "        scope:       string, variable scope\n",
    "    Return:\n",
    "        normed:      batch-normalized maps\n",
    "    \"\"\"\n",
    "    with tf.variable_scope(scope):\n",
    "        beta = tf.Variable(tf.constant(0.0, shape=[n_out]),\n",
    "                                     name='beta', trainable=True)\n",
    "        gamma = tf.Variable(tf.constant(1.0, shape=[n_out]),\n",
    "                                      name='gamma', trainable=True)\n",
    "        batch_mean, batch_var = tf.nn.moments(x, [0,1,2], name='moments')\n",
    "        ema = tf.train.ExponentialMovingAverage(decay=0.5)\n",
    "\n",
    "        def mean_var_with_update():\n",
    "            ema_apply_op = ema.apply([batch_mean, batch_var])\n",
    "            with tf.control_dependencies([ema_apply_op]):\n",
    "                return tf.identity(batch_mean), tf.identity(batch_var)\n",
    "\n",
    "        mean, var = tf.cond(phase_train,\n",
    "                            mean_var_with_update,\n",
    "                            lambda: (ema.average(batch_mean), ema.average(batch_var)))\n",
    "        normed = tf.nn.batch_normalization(x, mean, var, beta, gamma, 1e-3)\n",
    "    return normed"
   ]
  },
  {
   "cell_type": "code",
   "execution_count": null,
   "metadata": {
    "collapsed": false
   },
   "outputs": [
    {
     "name": "stdout",
     "output_type": "stream",
     "text": [
      "conv1\n",
      "--\n",
      "conv 2\n",
      "Tensor(\"add_100:0\", shape=(?, 16, 16, 64), dtype=float32)\n",
      "Tensor(\"MaxPool_51:0\", shape=(?, 8, 8, 64), dtype=float32)\n",
      "Tensor(\"Reshape_54:0\", shape=(?, 4096), dtype=float32)"
     ]
    }
   ],
   "source": [
    "#todo: calculate size reduced after maxpool\n",
    "#todo: change accuracy check on training to rando 1000\n",
    "# Check weight initialization\n",
    "# Add batch norm to FC\n",
    "\n",
    "# num_epochs = 200\n",
    "# num_train = 100\n",
    "# batch_size = 50\n",
    "# num_classes = 10\n",
    "\n",
    "num_epochs = 20\n",
    "num_train = 10\n",
    "batch_size = 5\n",
    "num_classes = 10\n",
    "\n",
    "small_data = {\n",
    "  'X_train': data['X_train'][:num_train],\n",
    "  'y_train': data['y_train'][:num_train],\n",
    "  'X_val': data['X_val'],\n",
    "  'y_val': data['y_val'],\n",
    "}\n",
    "X = small_data['X_train'].astype(float32)\n",
    "X = np.reshape(X, (X.shape[0], -1))\n",
    "y = small_data['y_train']\n",
    "\n",
    "X_val = small_data['X_val'].astype(float32)\n",
    "X_val = np.reshape(X_val, (X_val.shape[0], -1))\n",
    "y_val = small_data['y_val']\n",
    "\n",
    "\n",
    "W,H = 32,32\n",
    "C = 3\n",
    "input_dim = C * W * H\n",
    "num_conv1_filters = 32\n",
    "num_conv2_filters = 64\n",
    "\n",
    "\n",
    "f_size = 5\n",
    "fc_hidden_dim = 500\n",
    "\n",
    "\"\"\"\n",
    "Placeholders\n",
    "\"\"\"\n",
    "x_ = tf.placeholder(tf.float32, shape=[None, input_dim], name=\"x_placeholder\")\n",
    "x = tf.reshape(x_, [-1,H,W,C]) # double check if this reshape hasn't messed anything up:\n",
    "y_ = tf.placeholder(tf.int64, shape=(None), name=\"y_placeholder\")\n",
    "keep_prob = tf.placeholder(tf.float32, name=\"keep_prob_placeholder\")\n",
    "\n",
    "\"\"\"\n",
    "Conv layer 1\n",
    "\"\"\"\n",
    "W_conv1_1 = weight_variable((5, 5, C, num_conv1_filters), name=\"W_conv1_1\")\n",
    "# XXX: left off here, figure out how to best handle auto generation of W.  nu_conv1_filters needs to match with next conv3\n",
    "W_conv1_2 = weight_variable((5, 5, num_conv1_filters, num_conv1_filters), name=\"W_conv1_2\")\n",
    "b_1_1 = bias_variable([num_conv1_filters], name='b1_1')\n",
    "b_1_2 = bias_variable([num_conv1_filters], name='b1_2')\n",
    "# h_conv1 = conv2d(x, W_conv1) + b_1\n",
    "# h_relu = tf.nn.relu(h_conv1)\n",
    "\n",
    "print \"conv1\"\n",
    "# old one before batch norm: h_conv_relu_1 = conv2d_relu(x, W_conv1_1, b_1_1)\n",
    "phase_train = tf.placeholder(tf.bool, name='phase_train')\n",
    "h_conv_relu_1 = conv2d_batch_relu(x, W_conv1_1, b_1_1, num_conv1_filters, phase_train)\n",
    "# old: h_conv_relu_2 = conv2d_relu(h_conv_relu_1, W_conv1_2, b_1_2)\n",
    "h_conv_relu_2 = conv2d_batch_relu(h_conv_relu_1, W_conv1_2, b_1_2, num_conv1_filters, phase_train)\n",
    "h_pool = max_pool_2x2(h_conv_relu_2)\n",
    "print \"--\"\n",
    "# print h_pool\n",
    "\n",
    "\n",
    "\"\"\"\n",
    "Conv layer 2\n",
    "\"\"\"\n",
    "W_conv2 = weight_variable( (5, 5, num_conv1_filters, num_conv2_filters), name=\"W_conv2\" )\n",
    "b_2 = bias_variable([num_conv2_filters], name='b2')\n",
    "\n",
    "print \"conv 2\"\n",
    "h_relu_2 = conv2d_batch_relu(h_pool, W_conv2, b_2, num_conv2_filters, phase_train)\n",
    "# old:\n",
    "# h_conv_2 = conv2d(h_pool, W_conv2) + b_2\n",
    "# h_relu_2 = tf.nn.relu(h_conv_2)\n",
    "h_pool_2 = max_pool_2x2(h_relu_2)\n",
    "\n",
    "print h_conv_2\n",
    "print h_pool_2\n",
    "\n",
    "\"\"\"\n",
    "FC Layer\n",
    "\"\"\"\n",
    "# double check the 16 number\n",
    "# W_fc1 = tf.Variable(1e-3*tf.truncated_normal((16*16*num_conv1_filters, fc_hidden_dim), stddev=0.1), name=\"W_fc1\")\n",
    "W_fc1 = tf.Variable(1e-2*tf.truncated_normal((8*8*num_conv2_filters, fc_hidden_dim), stddev=0.1), name=\"W_fc1\")\n",
    "b_fc1 = tf.Variable(tf.zeros([fc_hidden_dim]), name=\"b_fc1\")\n",
    "# h_pool_flat = tf.reshape(h_pool, [-1, 16*16*32])\n",
    "h_pool_flat = tf.reshape(h_pool_2, [-1, 8*8*num_conv2_filters])\n",
    "print h_pool_flat\n",
    "print W_fc1\n",
    "# (10,8192) * (8192,500) = (10,500)\n",
    "h_fc1 = tf.nn.relu(tf.matmul(h_pool_flat, W_fc1) + b_fc1)\n",
    "print h_fc1\n",
    "\n",
    "\"\"\"\n",
    "Dropout\n",
    "\"\"\"\n",
    "keep_prob = tf.placeholder(tf.float32)\n",
    "h_fc1_drop = tf.nn.dropout(h_fc1, keep_prob)\n",
    "\n",
    "\"\"\"\n",
    "Output Layer\n",
    "\"\"\"\n",
    "W_fc2 = tf.Variable(1e-2*tf.truncated_normal((fc_hidden_dim,num_classes), stddev=0.1), name=\"W_fc2\")\n",
    "b_fc2 = tf.Variable(tf.zeros([num_classes]), name=\"b_fc2\")\n",
    "scores_fc2 = (tf.matmul(h_fc1, W_fc2) + b_fc2)\n",
    "print scores_fc2\n",
    "# y_conv = tf.nn.softmax(tf.matmul(h_fc1, W_fc2) + b_fc2)\n",
    "# print y_conv\n",
    "# print tf.log(y_conv)\n",
    "# cross_entropy = tf.reduce_mean(-tf.reduce_sum(y_ * tf.log(y_conv), reduction_indices=[1]))\n",
    "cross_entropy = tf.nn.sparse_softmax_cross_entropy_with_logits(scores_fc2, y_, name='xentropy')\n",
    "loss = tf.reduce_mean(cross_entropy, name='xentropy_mean')\n",
    "print cross_entropy\n",
    "print loss\n",
    "\n",
    "\n",
    "# optimizer = tf.train.GradientDescentOptimizer(1e-2)\n",
    "# # Create a variable to track the global step.\n",
    "# global_step = tf.Variable(0, name='global_step', trainable=False)\n",
    "# train_op = optimizer.minimize(loss, global_step=global_step)\n",
    "train_op = tf.train.AdamOptimizer(1e-3).minimize(loss)\n",
    "\n",
    "with tf.Session() as session:\n",
    "    session.run(tf.initialize_all_variables())\n",
    "\n",
    "    for epoch in xrange(num_epochs):\n",
    "        for i in xrange(num_train/batch_size):\n",
    "            batch_xs = X[i*batch_size:i*batch_size+batch_size] # (batchsize, image_dim)\n",
    "            batch_ys = y[i*batch_size:i*batch_size+batch_size] # (batchsize,)\n",
    "\n",
    "            feed_train = {x_: batch_xs, y_: batch_ys, keep_prob:0.5, phase_train.name: True}\n",
    "            session.run(train_op, feed_dict=feed_train)\n",
    "            \n",
    "        print session.run(loss, feed_dict=feed_train)\n",
    "    \n",
    "        # sample at random for testing training\n",
    "        batch_mask = np.random.choice(X.shape[0], batch_size)\n",
    "        feed_train = {x_: X[batch_mask], y_: y[batch_mask], keep_prob:1, phase_train.name: False}\n",
    "        feed_val = {x_: X_val, y_: y_val, keep_prob:1, phase_train.name: False}\n",
    "        \n",
    "        correct_prediction = tf.equal(tf.argmax(scores_fc2, 1), y_)\n",
    "        accuracy = tf.reduce_mean(tf.cast(correct_prediction, tf.float32))\n",
    "        train_acc_result = accuracy.eval(feed_train)\n",
    "        vac_acc_results = accuracy.eval(feed_val)\n",
    "        print(\"(Epoch: {e}/{et}) train acc: {tacc}; val_acc: {vacc}\".format(\n",
    "                e=epoch+1,et=num_epochs, tacc=train_acc_result, vacc=vac_acc_results))\n",
    "#         val_acc_result = accuracy.eval(feed_val)\n",
    "    "
   ]
  },
  {
   "cell_type": "code",
   "execution_count": 44,
   "metadata": {
    "collapsed": false
   },
   "outputs": [
    {
     "data": {
      "text/plain": [
       "(200, 3072)"
      ]
     },
     "execution_count": 44,
     "metadata": {},
     "output_type": "execute_result"
    }
   ],
   "source": [
    "X.shape\n",
    "batch_mask = (np.random.choice(X.shape[0], 200))\n",
    "X[mask].shape\n"
   ]
  },
  {
   "cell_type": "code",
   "execution_count": null,
   "metadata": {
    "collapsed": false
   },
   "outputs": [],
   "source": []
  },
  {
   "cell_type": "code",
   "execution_count": null,
   "metadata": {
    "collapsed": true
   },
   "outputs": [],
   "source": []
  },
  {
   "cell_type": "code",
   "execution_count": null,
   "metadata": {
    "collapsed": false
   },
   "outputs": [],
   "source": []
  },
  {
   "cell_type": "code",
   "execution_count": null,
   "metadata": {
    "collapsed": false
   },
   "outputs": [],
   "source": []
  },
  {
   "cell_type": "code",
   "execution_count": null,
   "metadata": {
    "collapsed": true
   },
   "outputs": [],
   "source": []
  }
 ],
 "metadata": {
  "kernelspec": {
   "display_name": "Python 2",
   "language": "python",
   "name": "python2"
  },
  "language_info": {
   "codemirror_mode": {
    "name": "ipython",
    "version": 2
   },
   "file_extension": ".py",
   "mimetype": "text/x-python",
   "name": "python",
   "nbconvert_exporter": "python",
   "pygments_lexer": "ipython2",
   "version": "2.7.10"
  }
 },
 "nbformat": 4,
 "nbformat_minor": 0
}
